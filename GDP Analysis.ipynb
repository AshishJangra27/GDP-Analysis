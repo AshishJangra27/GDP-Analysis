{
 "cells": [
  {
   "cell_type": "code",
   "execution_count": 1,
   "id": "0e24e37a",
   "metadata": {},
   "outputs": [],
   "source": [
    "import os\n",
    "import numpy as np\n",
    "import pandas as pd\n",
    "import plotly.express as px\n",
    "import plotly.offline as pyo"
   ]
  },
  {
   "cell_type": "code",
   "execution_count": 2,
   "id": "f9ec649b",
   "metadata": {},
   "outputs": [
    {
     "data": {
      "text/html": [
       "<div>\n",
       "<style scoped>\n",
       "    .dataframe tbody tr th:only-of-type {\n",
       "        vertical-align: middle;\n",
       "    }\n",
       "\n",
       "    .dataframe tbody tr th {\n",
       "        vertical-align: top;\n",
       "    }\n",
       "\n",
       "    .dataframe thead th {\n",
       "        text-align: right;\n",
       "    }\n",
       "</style>\n",
       "<table border=\"1\" class=\"dataframe\">\n",
       "  <thead>\n",
       "    <tr style=\"text-align: right;\">\n",
       "      <th></th>\n",
       "      <th>Country Name</th>\n",
       "      <th>Country Code</th>\n",
       "      <th>Year</th>\n",
       "      <th>Value</th>\n",
       "    </tr>\n",
       "  </thead>\n",
       "  <tbody>\n",
       "    <tr>\n",
       "      <th>0</th>\n",
       "      <td>Arab World</td>\n",
       "      <td>ARB</td>\n",
       "      <td>1968</td>\n",
       "      <td>2.576068e+10</td>\n",
       "    </tr>\n",
       "    <tr>\n",
       "      <th>1</th>\n",
       "      <td>Arab World</td>\n",
       "      <td>ARB</td>\n",
       "      <td>1969</td>\n",
       "      <td>2.843420e+10</td>\n",
       "    </tr>\n",
       "    <tr>\n",
       "      <th>2</th>\n",
       "      <td>Arab World</td>\n",
       "      <td>ARB</td>\n",
       "      <td>1970</td>\n",
       "      <td>3.138550e+10</td>\n",
       "    </tr>\n",
       "    <tr>\n",
       "      <th>3</th>\n",
       "      <td>Arab World</td>\n",
       "      <td>ARB</td>\n",
       "      <td>1971</td>\n",
       "      <td>3.642691e+10</td>\n",
       "    </tr>\n",
       "    <tr>\n",
       "      <th>4</th>\n",
       "      <td>Arab World</td>\n",
       "      <td>ARB</td>\n",
       "      <td>1972</td>\n",
       "      <td>4.331606e+10</td>\n",
       "    </tr>\n",
       "  </tbody>\n",
       "</table>\n",
       "</div>"
      ],
      "text/plain": [
       "  Country Name Country Code  Year         Value\n",
       "0   Arab World          ARB  1968  2.576068e+10\n",
       "1   Arab World          ARB  1969  2.843420e+10\n",
       "2   Arab World          ARB  1970  3.138550e+10\n",
       "3   Arab World          ARB  1971  3.642691e+10\n",
       "4   Arab World          ARB  1972  4.331606e+10"
      ]
     },
     "execution_count": 2,
     "metadata": {},
     "output_type": "execute_result"
    }
   ],
   "source": [
    "df = pd.read_csv('gdp.csv')\n",
    "df.head()"
   ]
  },
  {
   "cell_type": "code",
   "execution_count": 3,
   "id": "18a09cf7",
   "metadata": {},
   "outputs": [
    {
     "data": {
      "text/plain": [
       "True"
      ]
     },
     "execution_count": 3,
     "metadata": {},
     "output_type": "execute_result"
    }
   ],
   "source": [
    "df['Country Name'].nunique() == df['Country Code'].nunique()"
   ]
  },
  {
   "cell_type": "code",
   "execution_count": 4,
   "id": "fb9d623e",
   "metadata": {},
   "outputs": [
    {
     "data": {
      "text/plain": [
       "0        1968\n",
       "1        1969\n",
       "2        1970\n",
       "3        1971\n",
       "4        1972\n",
       "         ... \n",
       "11502    2012\n",
       "11503    2013\n",
       "11504    2014\n",
       "11505    2015\n",
       "11506    2016\n",
       "Name: Year, Length: 11507, dtype: int64"
      ]
     },
     "execution_count": 4,
     "metadata": {},
     "output_type": "execute_result"
    }
   ],
   "source": [
    "df['Year']"
   ]
  },
  {
   "cell_type": "code",
   "execution_count": 5,
   "id": "f4b84039",
   "metadata": {},
   "outputs": [],
   "source": [
    "df_pr = df[df['Country Name'] == 'World']"
   ]
  },
  {
   "cell_type": "code",
   "execution_count": 6,
   "id": "e09389a8",
   "metadata": {
    "scrolled": true
   },
   "outputs": [
    {
     "data": {
      "text/plain": [
       "57"
      ]
     },
     "execution_count": 6,
     "metadata": {},
     "output_type": "execute_result"
    }
   ],
   "source": [
    "len(df_pr)"
   ]
  },
  {
   "cell_type": "code",
   "execution_count": 7,
   "id": "eea71a21",
   "metadata": {},
   "outputs": [
    {
     "data": {
      "text/plain": [
       "<AxesSubplot:xlabel='Years', ylabel='GDP'>"
      ]
     },
     "execution_count": 7,
     "metadata": {},
     "output_type": "execute_result"
    },
    {
     "data": {
      "image/png": "[encoded data removed]",
      "text/plain": [
       "<Figure size 1080x432 with 1 Axes>"
      ]
     },
     "metadata": {
      "needs_background": "light"
     },
     "output_type": "display_data"
    }
   ],
   "source": [
    "df_pr.plot(kind = 'line' , x = 'Year', y = 'Value', \n",
    "           figsize = (15,6), \n",
    "           legend = False, \n",
    "           grid = True,\n",
    "           xlabel = 'Years', \n",
    "           ylabel = 'GDP')"
   ]
  },
  {
   "cell_type": "code",
   "execution_count": 8,
   "id": "38fe8d9b",
   "metadata": {
    "scrolled": true
   },
   "outputs": [
    {
     "data": {
      "text/html": [
       "<div>\n",
       "<style scoped>\n",
       "    .dataframe tbody tr th:only-of-type {\n",
       "        vertical-align: middle;\n",
       "    }\n",
       "\n",
       "    .dataframe tbody tr th {\n",
       "        vertical-align: top;\n",
       "    }\n",
       "\n",
       "    .dataframe thead th {\n",
       "        text-align: right;\n",
       "    }\n",
       "</style>\n",
       "<table border=\"1\" class=\"dataframe\">\n",
       "  <thead>\n",
       "    <tr style=\"text-align: right;\">\n",
       "      <th></th>\n",
       "      <th>Country Name</th>\n",
       "      <th>Country Code</th>\n",
       "      <th>Year</th>\n",
       "      <th>Value</th>\n",
       "    </tr>\n",
       "  </thead>\n",
       "  <tbody>\n",
       "    <tr>\n",
       "      <th>2249</th>\n",
       "      <td>World</td>\n",
       "      <td>WLD</td>\n",
       "      <td>1960</td>\n",
       "      <td>1.366678e+12</td>\n",
       "    </tr>\n",
       "    <tr>\n",
       "      <th>2250</th>\n",
       "      <td>World</td>\n",
       "      <td>WLD</td>\n",
       "      <td>1961</td>\n",
       "      <td>1.421788e+12</td>\n",
       "    </tr>\n",
       "    <tr>\n",
       "      <th>2251</th>\n",
       "      <td>World</td>\n",
       "      <td>WLD</td>\n",
       "      <td>1962</td>\n",
       "      <td>1.526955e+12</td>\n",
       "    </tr>\n",
       "    <tr>\n",
       "      <th>2252</th>\n",
       "      <td>World</td>\n",
       "      <td>WLD</td>\n",
       "      <td>1963</td>\n",
       "      <td>1.643752e+12</td>\n",
       "    </tr>\n",
       "    <tr>\n",
       "      <th>2253</th>\n",
       "      <td>World</td>\n",
       "      <td>WLD</td>\n",
       "      <td>1964</td>\n",
       "      <td>1.800796e+12</td>\n",
       "    </tr>\n",
       "  </tbody>\n",
       "</table>\n",
       "</div>"
      ],
      "text/plain": [
       "     Country Name Country Code  Year         Value\n",
       "2249        World          WLD  1960  1.366678e+12\n",
       "2250        World          WLD  1961  1.421788e+12\n",
       "2251        World          WLD  1962  1.526955e+12\n",
       "2252        World          WLD  1963  1.643752e+12\n",
       "2253        World          WLD  1964  1.800796e+12"
      ]
     },
     "execution_count": 8,
     "metadata": {},
     "output_type": "execute_result"
    }
   ],
   "source": [
    "df_pr.head()"
   ]
  },
  {
   "cell_type": "markdown",
   "id": "5e13fd4f",
   "metadata": {},
   "source": [
    "## Finding GDP Growth for World"
   ]
  },
  {
   "cell_type": "code",
   "execution_count": 9,
   "id": "426d3820",
   "metadata": {},
   "outputs": [],
   "source": [
    "df_pr = df[df['Country Name'] == 'World']\n",
    "\n",
    "data = df_pr.values\n",
    "gdp_change = [0]\n",
    "\n",
    "for i in range(1,len(data)):\n",
    "    gdp_change.append(round((((data[i][3] - data[i-1][3])/data[i-1][3])*100),2))\n",
    "    \n",
    "df_pr = df_pr.assign(GDP = gdp_change)"
   ]
  },
  {
   "cell_type": "markdown",
   "id": "0e369e3b",
   "metadata": {},
   "source": [
    "## Finding GDP Growth for India"
   ]
  },
  {
   "cell_type": "code",
   "execution_count": 10,
   "id": "09538894",
   "metadata": {},
   "outputs": [],
   "source": [
    "df_pr = df[df['Country Name'] == 'India']\n",
    "\n",
    "data = df_pr.values\n",
    "gdp_change = [0]\n",
    "\n",
    "for i in range(1,len(data)):\n",
    "    gdp_change.append(round((((data[i][3] - data[i-1][3])/data[i-1][3])*100),2))\n",
    "    \n",
    "df_pr = df_pr.assign(GDP_Growth = gdp_change)"
   ]
  },
  {
   "cell_type": "markdown",
   "id": "2c4ca54d",
   "metadata": {},
   "source": [
    "## Creating GDP Growth Column on main Dataset"
   ]
  },
  {
   "cell_type": "code",
   "execution_count": 11,
   "id": "1f4ea5f8",
   "metadata": {},
   "outputs": [],
   "source": [
    "final_data = []\n",
    "\n",
    "for country_name in df['Country Name'].unique():\n",
    "\n",
    "    df_pr = df[df['Country Name'] == country_name]\n",
    "\n",
    "    data = df_pr.values\n",
    "    gdp_change = [0]\n",
    "\n",
    "    for i in range(1,len(data)):\n",
    "        gdp_change.append(round((((data[i][3] - data[i-1][3])/data[i-1][3])*100),2))\n",
    "\n",
    "    df_pr = df_pr.assign(GDP_Growth = gdp_change)\n",
    "    final_data.append(df_pr)\n",
    "    \n",
    "df = pd.concat(final_data, axis = 0)"
   ]
  },
  {
   "cell_type": "markdown",
   "id": "448e706d",
   "metadata": {},
   "source": [
    "## Finding Current/Maximum GDP of Every Country"
   ]
  },
  {
   "cell_type": "code",
   "execution_count": 12,
   "id": "2d22fb3d",
   "metadata": {
    "scrolled": true
   },
   "outputs": [
    {
     "data": {
      "text/plain": [
       "Country Name\n",
       "World                                                   7.904923e+13\n",
       "High income                                             5.036240e+13\n",
       "OECD members                                            4.937008e+13\n",
       "Post-demographic dividend                               4.673504e+13\n",
       "IDA & IBRD total                                        2.948247e+13\n",
       "Low & middle income                                     2.870476e+13\n",
       "Middle income                                           2.829277e+13\n",
       "IBRD only                                               2.739661e+13\n",
       "Europe & Central Asia                                   2.365470e+13\n",
       "East Asia & Pacific                                     2.248043e+13\n",
       "Upper middle income                                     2.221220e+13\n",
       "North America                                           2.016030e+13\n",
       "Late-demographic dividend                               1.970310e+13\n",
       "European Union                                          1.913667e+13\n",
       "United States                                           1.862448e+13\n",
       "Euro area                                               1.411818e+13\n",
       "East Asia & Pacific (excluding high income)             1.351244e+13\n",
       "East Asia & Pacific (IDA & IBRD countries)              1.348649e+13\n",
       "China                                                   1.119915e+13\n",
       "Early-demographic dividend                              1.052987e+13\n",
       "Latin America & Caribbean                               6.391550e+12\n",
       "Lower middle income                                     6.263373e+12\n",
       "Japan                                                   6.203213e+12\n",
       "Latin America & the Caribbean (IDA & IBRD countries)    6.171392e+12\n",
       "Latin America & Caribbean (excluding high income)       5.905518e+12\n",
       "Europe & Central Asia (IDA & IBRD countries)            4.893444e+12\n",
       "Europe & Central Asia (excluding high income)           4.369243e+12\n",
       "Germany                                                 3.890607e+12\n",
       "Middle East & North Africa                              3.563559e+12\n",
       "United Kingdom                                          3.074360e+12\n",
       "France                                                  2.923466e+12\n",
       "Arab World                                              2.906616e+12\n",
       "South Asia (IDA & IBRD)                                 2.892481e+12\n",
       "South Asia                                              2.892481e+12\n",
       "Brazil                                                  2.616202e+12\n",
       "Italy                                                   2.390729e+12\n",
       "Russian Federation                                      2.297128e+12\n",
       "India                                                   2.263792e+12\n",
       "IDA total                                               2.094666e+12\n",
       "Canada                                                  1.842628e+12\n",
       "Sub-Saharan Africa                                      1.780285e+12\n",
       "Sub-Saharan Africa (IDA & IBRD countries)               1.780285e+12\n",
       "Sub-Saharan Africa (excluding high income)              1.778862e+12\n",
       "Middle East & North Africa (excluding high income)      1.681555e+12\n",
       "Middle East & North Africa (IDA & IBRD countries)       1.670274e+12\n",
       "Spain                                                   1.635015e+12\n",
       "Australia                                               1.567179e+12\n",
       "Central Europe and the Baltics                          1.524160e+12\n",
       "Pre-demographic dividend                                1.496971e+12\n",
       "Korea, Rep.                                             1.411334e+12\n",
       "Name: Value, dtype: float64"
      ]
     },
     "execution_count": 12,
     "metadata": {},
     "output_type": "execute_result"
    }
   ],
   "source": [
    "df.groupby('Country Name').max()['Value'].sort_values( ascending = False).head(50)"
   ]
  },
  {
   "cell_type": "markdown",
   "id": "fbac19cd",
   "metadata": {},
   "source": [
    "## Plotting Graphs using Plotly"
   ]
  },
  {
   "cell_type": "code",
   "execution_count": 13,
   "id": "8be88597",
   "metadata": {
    "scrolled": true
   },
   "outputs": [
    {
     "data": {
      "text/plain": [
       "'World.html'"
      ]
     },
     "execution_count": 13,
     "metadata": {},
     "output_type": "execute_result"
    }
   ],
   "source": [
    "df_pr = df[df['Country Name'] == 'World']\n",
    "\n",
    "fig = px.line(df_pr, x = \"Year\", y = \"Value\", title = 'World GDP Analysis', range_y = [0,80000000000000])\n",
    "\n",
    "pyo.plot(fig, filename = 'World.html')"
   ]
  },
  {
   "cell_type": "markdown",
   "id": "524065cc",
   "metadata": {},
   "source": [
    "## GDP of each country throughtout the history"
   ]
  },
  {
   "cell_type": "code",
   "execution_count": 14,
   "id": "57d2be93",
   "metadata": {},
   "outputs": [],
   "source": [
    "os.mkdir('GDPs Individual')\n",
    "\n",
    "for country_name in df['Country Name'].unique():\n",
    "    df_pr = df[df['Country Name'] == country_name]\n",
    "    \n",
    "    fig = px.line(df_pr, x = \"Year\", y = \"Value\", title = country_name + ' Analysis')\n",
    "    pyo.plot(fig, filename = \"GDPs Individual/\"+country_name+'.html', auto_open = False)"
   ]
  },
  {
   "cell_type": "markdown",
   "id": "63016f55",
   "metadata": {},
   "source": [
    "## GDP of each country throughtout the history Compared to World GDP Chart"
   ]
  },
  {
   "cell_type": "code",
   "execution_count": 15,
   "id": "2e5bc228",
   "metadata": {},
   "outputs": [],
   "source": [
    "os.mkdir('GDPs Same Scale')\n",
    "\n",
    "for country_name in df['Country Name'].unique():\n",
    "    df_pr = df[df['Country Name'] == country_name]\n",
    "    \n",
    "    fig = px.line(df_pr, x = \"Year\", y = \"Value\", title = country_name + ' Analysis', range_y = [0,80000000000000])\n",
    "    pyo.plot(fig, filename = \"GDPs Same Scale/\"+country_name+'.html', auto_open = False)"
   ]
  },
  {
   "cell_type": "markdown",
   "id": "f9d34bc9",
   "metadata": {},
   "source": [
    "## GDP of All countries"
   ]
  },
  {
   "cell_type": "code",
   "execution_count": 16,
   "id": "2561f876",
   "metadata": {
    "scrolled": false
   },
   "outputs": [
    {
     "data": {
      "text/plain": [
       "'GDP of All Countries.html'"
      ]
     },
     "execution_count": 16,
     "metadata": {},
     "output_type": "execute_result"
    }
   ],
   "source": [
    "fig = px.line(df, x = \"Year\", y = \"Value\", title = 'GDP of All Countries', color = 'Country Name')\n",
    "\n",
    "pyo.plot(fig, filename = 'GDP of All Countries.html', auto_open = False)"
   ]
  },
  {
   "cell_type": "markdown",
   "id": "fbe5cf9d",
   "metadata": {},
   "source": [
    "## GDP of All countries with Markers"
   ]
  },
  {
   "cell_type": "code",
   "execution_count": 17,
   "id": "d2003d0d",
   "metadata": {},
   "outputs": [
    {
     "data": {
      "text/plain": [
       "'GDP of All Countries with Marker.html'"
      ]
     },
     "execution_count": 17,
     "metadata": {},
     "output_type": "execute_result"
    }
   ],
   "source": [
    "fig = px.line(df, x = \"Year\", y = \"Value\", title = 'GDP of All Countries', color = 'Country Name', markers = True)\n",
    "\n",
    "pyo.plot(fig, filename = 'GDP of All Countries with Marker.html', auto_open = False)"
   ]
  },
  {
   "cell_type": "markdown",
   "id": "3b0b65a2",
   "metadata": {},
   "source": [
    "## Compare GDPs of Specific Countries based on Country Code"
   ]
  },
  {
   "cell_type": "code",
   "execution_count": 18,
   "id": "8964b11a",
   "metadata": {},
   "outputs": [
    {
     "data": {
      "text/plain": [
       "'ITA-IND-USA-CHN'"
      ]
     },
     "execution_count": 18,
     "metadata": {},
     "output_type": "execute_result"
    }
   ],
   "source": [
    "'-'.join(['ITA', 'IND', 'USA', 'CHN'])"
   ]
  },
  {
   "cell_type": "code",
   "execution_count": 19,
   "id": "662b5421",
   "metadata": {},
   "outputs": [],
   "source": [
    "def compare_gdp_by_code(lst):    \n",
    "\n",
    "    dfs = []\n",
    "\n",
    "    for i in lst:    \n",
    "        dfs.append(df[df['Country Code'] == i])\n",
    "\n",
    "    df_pr = pd.concat(dfs, axis = 0)\n",
    "    fig = px.line(df_pr, x = \"Year\", y = \"Value\", title = '|'.join(lst), color = 'Country Name')\n",
    "#    fig.show()\n",
    "    \n",
    "    pyo.plot(fig, filename = '-'.join(lst)+ '.html', auto_open = False)\n",
    "    \n",
    "    return df_pr\n",
    "    \n",
    "df_pr = compare_gdp_by_code(['ITA', 'IND', 'USA', 'CHN'])"
   ]
  },
  {
   "cell_type": "markdown",
   "id": "6b48a5b6",
   "metadata": {},
   "source": [
    "## Compare GDPs of Specific Countries based on Country Name"
   ]
  },
  {
   "cell_type": "code",
   "execution_count": 20,
   "id": "d29d99da",
   "metadata": {},
   "outputs": [],
   "source": [
    "def compare_gdp_by_name(lst):    \n",
    "\n",
    "    dfs = []\n",
    "\n",
    "    for i in lst:    \n",
    "        dfs.append(df[df['Country Name'] == i])\n",
    "\n",
    "    df_pr = pd.concat(dfs, axis = 0)\n",
    "    fig = px.line(df_pr, x = \"Year\", y = \"Value\", title = '|'.join(lst), color = 'Country Name')\n",
    "#    fig.show()\n",
    "    \n",
    "    pyo.plot(fig, filename = '-'.join(lst)+ '.html', auto_open = False)\n",
    "    \n",
    "    return df_pr\n",
    "    \n",
    "df_pr = compare_gdp_by_name(['Italy', 'India', 'United States', 'China'])"
   ]
  },
  {
   "cell_type": "markdown",
   "id": "68671eb5",
   "metadata": {},
   "source": [
    "## Comparing GDP Growth with different Countries"
   ]
  },
  {
   "cell_type": "code",
   "execution_count": 21,
   "id": "ce965b8a",
   "metadata": {},
   "outputs": [],
   "source": [
    "def compare_gdp(lst):    \n",
    "\n",
    "    dfs = []\n",
    "\n",
    "    for i in lst:    \n",
    "        dfs.append(df[df['Country Code'] == i])\n",
    "\n",
    "    df_pr = pd.concat(dfs, axis = 0)\n",
    "    fig = px.line(df_pr, x = 'Year', y = 'GDP_Growth', title = '|'.join(lst), color = 'Country Name')\n",
    "#    fig.show()\n",
    "    \n",
    "    pyo.plot(fig, filename = \"GDP Growth | \" + '-'.join(lst)+ '.html', auto_open = False)\n",
    "    \n",
    "    return df_pr\n",
    "    \n",
    "df_pr = compare_gdp(['ITA', 'IND', 'USA', 'CHN'])"
   ]
  },
  {
   "cell_type": "markdown",
   "id": "e42988bb",
   "metadata": {},
   "source": [
    "## Adding More functionalirties on GDP Growth Compare Function"
   ]
  },
  {
   "cell_type": "code",
   "execution_count": 22,
   "id": "4ab7f4f6",
   "metadata": {},
   "outputs": [],
   "source": [
    "def compare_gdp(lst, by):    \n",
    "\n",
    "    dfs = []\n",
    "\n",
    "    for i in lst:    \n",
    "        dfs.append(df[df['Country Code'] == i])\n",
    "\n",
    "    df_pr = pd.concat(dfs, axis = 0)\n",
    "    fig = px.line(df_pr, x = 'Year', y = by, title = '|'.join(lst), color = 'Country Name')\n",
    "#    fig.show()\n",
    "    \n",
    "    pyo.plot(fig, filename = \"GDP Growth by \" + by + \" | \" + '-'.join(lst)+ '.html', auto_open = False)\n",
    "    \n",
    "    return df_pr\n",
    "    \n",
    "df_pr = compare_gdp(['ITA', 'IND', 'USA', 'CHN'], by = 'Value')"
   ]
  },
  {
   "cell_type": "code",
   "execution_count": 23,
   "id": "591a3ed6",
   "metadata": {
    "scrolled": false
   },
   "outputs": [],
   "source": [
    "df_pr = compare_gdp(['USA','IND'], by = 'GDP_Growth')"
   ]
  },
  {
   "cell_type": "markdown",
   "id": "3a11d51c",
   "metadata": {},
   "source": [
    "## GDP Growth of Every Country in One Graph"
   ]
  },
  {
   "cell_type": "code",
   "execution_count": 24,
   "id": "5a011a65",
   "metadata": {
    "scrolled": false
   },
   "outputs": [
    {
     "data": {
      "text/plain": [
       "'GDP Growth.html'"
      ]
     },
     "execution_count": 24,
     "metadata": {},
     "output_type": "execute_result"
    }
   ],
   "source": [
    "fig = px.line(df, x = 'Year', y = 'GDP_Growth', title = 'GDP Growth', color = 'Country Name')\n",
    "\n",
    "pyo.plot(fig, filename = \"GDP Growth.html\", auto_open = False)"
   ]
  },
  {
   "cell_type": "markdown",
   "id": "e9f90a89",
   "metadata": {},
   "source": [
    "## GDP Growth of Every Country (1960 - 2016)"
   ]
  },
  {
   "cell_type": "code",
   "execution_count": 25,
   "id": "2070e2c4",
   "metadata": {},
   "outputs": [
    {
     "data": {
      "text/plain": [
       "'GDP Growth (1960 - 2016).html'"
      ]
     },
     "execution_count": 25,
     "metadata": {},
     "output_type": "execute_result"
    }
   ],
   "source": [
    "dfs = []\n",
    "\n",
    "for i in df['Country Name'].unique():\n",
    "    df_pr = df[df['Country Name'] == i]\n",
    "    \n",
    "    if(len(df_pr) == 57):\n",
    "        dfs.append(df_pr)\n",
    "        \n",
    "df_pr = pd.concat(dfs, axis = 0)\n",
    "\n",
    "fig = px.line(df_pr, x = 'Year', y = 'GDP_Growth', title = 'GDP Growth', color = 'Country Name')\n",
    "\n",
    "pyo.plot(fig, filename = \"GDP Growth (1960 - 2016).html\", auto_open = False)"
   ]
  },
  {
   "cell_type": "markdown",
   "id": "d6274205",
   "metadata": {},
   "source": [
    "## GDP Growth of each country"
   ]
  },
  {
   "cell_type": "code",
   "execution_count": 26,
   "id": "30abb202",
   "metadata": {},
   "outputs": [],
   "source": [
    "os.mkdir('GDP Growth')\n",
    "\n",
    "for country_name in df['Country Name'].unique():\n",
    "    df_pr = df[df['Country Name'] == country_name]\n",
    "    \n",
    "    fig = px.line(df_pr, x = \"Year\", y = \"GDP_Growth\", title = country_name + ' Analysis')\n",
    "    \n",
    "    pyo.plot(fig, filename = \"GDP Growth/\"+country_name+'.html', auto_open = False)"
   ]
  }
 ],
 "metadata": {
  "kernelspec": {
   "display_name": "Python 3",
   "language": "python",
   "name": "python3"
  },
  "language_info": {
   "codemirror_mode": {
    "name": "ipython",
    "version": 3
   },
   "file_extension": ".py",
   "mimetype": "text/x-python",
   "name": "python",
   "nbconvert_exporter": "python",
   "pygments_lexer": "ipython3",
   "version": "3.8.8"
  }
 },
 "nbformat": 4,
 "nbformat_minor": 5
}
